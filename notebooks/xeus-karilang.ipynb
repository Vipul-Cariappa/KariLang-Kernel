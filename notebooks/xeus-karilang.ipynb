{
 "cells": [
  {
   "cell_type": "markdown",
   "metadata": {},
   "source": [
    "<center>\n",
    "    <h1>KariLang kernel based on xeus</h1>\n",
    "</center>"
   ]
  },
  {
   "cell_type": "markdown",
   "metadata": {},
   "source": [
    "# Simple code execution"
   ]
  },
  {
   "cell_type": "code",
   "execution_count": null,
   "metadata": {},
   "outputs": [],
   "source": [
    "a = 3"
   ]
  }
 ],
 "metadata": {
  "kernelspec": {
   "display_name": "Python 0.0.1 (xkarilang)",
   "language": "text/x-KariLang",
   "name": "xkarilang"
  },
  "language_info": {
   "file_extension": "kari",
   "mimetype": "text/x-KariLang",
   "name": "xkarilang",
   "version": "0.0.1"
  }
 },
 "nbformat": 4,
 "nbformat_minor": 4
}
